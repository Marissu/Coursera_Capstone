{
 "cells": [
  {
   "cell_type": "markdown",
   "id": "33ffdd2d",
   "metadata": {},
   "source": [
    "#Este Notebook se utilizará para el proyecto final del Certificado Profesional de Ciencia de Datos - Curso Capstone \n"
   ]
  },
  {
   "cell_type": "code",
   "execution_count": 4,
   "id": "cfce669e",
   "metadata": {},
   "outputs": [],
   "source": [
    "import pandas as pd \n",
    "import numpy as np\n"
   ]
  },
  {
   "cell_type": "code",
   "execution_count": 5,
   "id": "5d984227",
   "metadata": {},
   "outputs": [
    {
     "name": "stdout",
     "output_type": "stream",
     "text": [
      "Hola, proyecto final de curso\n"
     ]
    }
   ],
   "source": [
    "print (\"Hola, proyecto final de curso\")"
   ]
  },
  {
   "cell_type": "code",
   "execution_count": null,
   "id": "dea7ab41",
   "metadata": {},
   "outputs": [],
   "source": []
  }
 ],
 "metadata": {
  "kernelspec": {
   "display_name": "Python 3",
   "language": "python",
   "name": "python3"
  },
  "language_info": {
   "codemirror_mode": {
    "name": "ipython",
    "version": 3
   },
   "file_extension": ".py",
   "mimetype": "text/x-python",
   "name": "python",
   "nbconvert_exporter": "python",
   "pygments_lexer": "ipython3",
   "version": "3.8.8"
  }
 },
 "nbformat": 4,
 "nbformat_minor": 5
}
